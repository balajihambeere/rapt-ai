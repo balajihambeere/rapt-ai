{
 "cells": [
  {
   "cell_type": "code",
   "execution_count": 14,
   "metadata": {},
   "outputs": [],
   "source": [
    "import PyPDF2\n",
    "import os"
   ]
  },
  {
   "cell_type": "markdown",
   "metadata": {},
   "source": [
    "1. Extract text from a PDF file using the extract_text_from_pdf function\n",
    "2. Receive an error message when trying to extract text from an invalid PDF file\n",
    "3. Receive an error message when trying to extract text from a non-existent PDF\n",
    "4. Receive an empty string when trying to extract text from a PDF file with no text\n",
    "5. Extract text from large PDF files without any performance issues\n",
    "6. Extract text from PDF files with different encodings (e.g., UTF-8, Latin-1)"
   ]
  },
  {
   "cell_type": "code",
   "execution_count": 15,
   "metadata": {},
   "outputs": [],
   "source": [
    "def extract_text_from_pdf(file_path):\n",
    "    \"\"\"\n",
    "    Extracts text from a PDF file, handling various edge cases as specified in the user stories.\n",
    "\n",
    "    :param file_path: Path to the PDF file\n",
    "    :return: Extracted text as a string\n",
    "    :raises: ValueError, FileNotFoundError, or RuntimeError depending on the issue\n",
    "    \"\"\"\n",
    "    # Check if file exists\n",
    "    if not os.path.exists(file_path):\n",
    "        raise FileNotFoundError(f\"The file at path '{file_path}' does not exist.\")\n",
    "\n",
    "    # Check if the file is a valid PDF\n",
    "    if not file_path.lower().endswith('.pdf'):\n",
    "        raise ValueError(f\"The file '{file_path}' is not a valid PDF.\")\n",
    "\n",
    "    try:\n",
    "        # Open the PDF file\n",
    "        with open(file_path, 'rb') as file:\n",
    "            reader = PyPDF2.PdfReader(file)\n",
    "\n",
    "            # Check if PDF contains any pages\n",
    "            if not reader.pages:\n",
    "                return \"\"  # Return an empty string for PDFs with no text\n",
    "\n",
    "            # Extract text from all pages\n",
    "            extracted_text = \"\"\n",
    "            for page in reader.pages:\n",
    "                extracted_text += page.extract_text() or \"\"\n",
    "\n",
    "            return extracted_text\n",
    "\n",
    "    except PyPDF2.errors.PdfReadError:\n",
    "        raise ValueError(f\"The file '{file_path}' is not a readable PDF.\")\n",
    "\n",
    "    except MemoryError:\n",
    "        raise RuntimeError(\"The file is too large to process with the available memory.\")"
   ]
  },
  {
   "cell_type": "code",
   "execution_count": null,
   "metadata": {},
   "outputs": [],
   "source": [
    "import os\n",
    "\n",
    "pdf_path = os.path.abspath('../data/Wipro-Jan20_2025.pdf')\n",
    "if os.path.exists(pdf_path):\n",
    "\ttext = extract_text_from_pdf(pdf_path)\n",
    "\tprint(text)\n",
    "else:\n",
    "\tprint(f\"File not found: {pdf_path}\")"
   ]
  }
 ],
 "metadata": {
  "kernelspec": {
   "display_name": ".venv",
   "language": "python",
   "name": "python3"
  },
  "language_info": {
   "codemirror_mode": {
    "name": "ipython",
    "version": 3
   },
   "file_extension": ".py",
   "mimetype": "text/x-python",
   "name": "python",
   "nbconvert_exporter": "python",
   "pygments_lexer": "ipython3",
   "version": "3.12.4"
  }
 },
 "nbformat": 4,
 "nbformat_minor": 2
}
