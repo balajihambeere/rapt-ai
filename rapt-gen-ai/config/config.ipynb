{
 "cells": [
  {
   "cell_type": "markdown",
   "metadata": {},
   "source": [
    " 1. Initialize a Pinecone client with a valid API key to interact with the Pinecone service.\n",
    " 2. Check if a Pinecone index with a specified name exists to determine whether to create a new index or use an existing one.\n",
    " 3. Create a new Pinecone index with the specified parameters to store and manage my data.\n",
    " 4. Retrieve an existing Pinecone index to perform operations on it.\n",
    " 5. Handle errors and exceptions that occur during the initialization and creation of the Pinecone index to diagnose and resolve issues."
   ]
  },
  {
   "cell_type": "code",
   "execution_count": null,
   "metadata": {},
   "outputs": [],
   "source": [
    "import os\n",
    "from pinecone import Pinecone, ServerlessSpec\n",
    "from openai import OpenAI\n",
    "from dotenv import load_dotenv\n",
    "\n",
    "load_dotenv()"
   ]
  },
  {
   "cell_type": "code",
   "execution_count": 14,
   "metadata": {},
   "outputs": [],
   "source": [
    "\n",
    "def get_pinecone_index(api_key=None):\n",
    "    if api_key is None:\n",
    "        api_key = os.environ.get('PINECONE_API_KEY')\n",
    "        if api_key is None:\n",
    "            raise ValueError(\"API key is required\")\n",
    "        \n",
    "    try:\n",
    "        # Initialize Pinecone client\n",
    "        pc = Pinecone(\n",
    "            api_key=api_key\n",
    "        )\n",
    "\n",
    "        index_name = \"raptai-search\"\n",
    "\n",
    "        # Check if index exists, if not create it\n",
    "        if index_name not in pc.list_indexes().names():\n",
    "            pc.create_index(\n",
    "                name=index_name,\n",
    "                dimension=1536,  # OpenAI ada-002 embedding dimension\n",
    "                metric='cosine',\n",
    "                spec=ServerlessSpec(\n",
    "                    cloud='aws',\n",
    "                    region='us-east-1'  # or your preferred AWS region\n",
    "                )\n",
    "            )\n",
    "\n",
    "        # Get the index\n",
    "        return pc.Index(index_name)\n",
    "    except Exception as e:\n",
    "        print(f\"An error occurred while initializing Pinecone index: {e}\")\n",
    "        raise\n"
   ]
  },
  {
   "cell_type": "code",
   "execution_count": null,
   "metadata": {},
   "outputs": [],
   "source": [
    "get_pinecone_index()"
   ]
  },
  {
   "cell_type": "markdown",
   "metadata": {},
   "source": [
    "1. Create an instance of the OpenAI class with a valid API key\n",
    "2. Receive an error message when trying to initialize OpenAI with an invalid API\n",
    "3. Receive an error message when trying to initialize OpenAI without an API key\n",
    "4. Store the API key securely to prevent unauthorized access(.env)"
   ]
  },
  {
   "cell_type": "code",
   "execution_count": null,
   "metadata": {},
   "outputs": [],
   "source": [
    "def initialize_openai(api_key=None):\n",
    "    if api_key is None:\n",
    "        api_key = os.environ.get('OPENAI_API_KEY')\n",
    "        if api_key is None:\n",
    "            raise ValueError(\"API key is required\")\n",
    "    \n",
    "    try:\n",
    "        return OpenAI(api_key=api_key)\n",
    "    except Exception as e:\n",
    "        raise ValueError(\"Invalid API key\") from e\n",
    "\n",
    "\n",
    "initialize_openai()"
   ]
  }
 ],
 "metadata": {
  "kernelspec": {
   "display_name": ".venv",
   "language": "python",
   "name": "python3"
  },
  "language_info": {
   "codemirror_mode": {
    "name": "ipython",
    "version": 3
   },
   "file_extension": ".py",
   "mimetype": "text/x-python",
   "name": "python",
   "nbconvert_exporter": "python",
   "pygments_lexer": "ipython3",
   "version": "3.12.4"
  }
 },
 "nbformat": 4,
 "nbformat_minor": 2
}
